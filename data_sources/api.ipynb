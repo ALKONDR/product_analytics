{
 "cells": [
  {
   "cell_type": "code",
   "execution_count": 1,
   "metadata": {},
   "outputs": [],
   "source": [
    "import pandas as pd\n",
    "import requests\n",
    "from tqdm import tqdm_notebook"
   ]
  },
  {
   "cell_type": "code",
   "execution_count": 2,
   "metadata": {},
   "outputs": [
    {
     "data": {
      "application/vnd.jupyter.widget-view+json": {
       "model_id": "77c15ea9bdde4065899b2d764ba2bfc8",
       "version_major": 2,
       "version_minor": 0
      },
      "text/plain": [
       "HBox(children=(IntProgress(value=0, max=50), HTML(value='')))"
      ]
     },
     "metadata": {},
     "output_type": "display_data"
    },
    {
     "name": "stdout",
     "output_type": "stream",
     "text": [
      "\n"
     ]
    }
   ],
   "source": [
    "vacancies = []\n",
    "vacancy_query = \"data analyst\"\n",
    "\n",
    "for page_number in tqdm_notebook(range(50)):\n",
    "    try:\n",
    "        response = requests.get(\"https://api.hh.ru/vacancies\",\n",
    "                                params={\n",
    "                                    \"text\": vacancy_query,\n",
    "                                    \"page\": page_number}\n",
    "                               )\n",
    "        json_response = response.json()\n",
    "\n",
    "        vacancies += json_response[\"items\"]\n",
    "    except Exception as ex:\n",
    "        print(ex)"
   ]
  },
  {
   "cell_type": "code",
   "execution_count": 3,
   "metadata": {
    "scrolled": true
   },
   "outputs": [],
   "source": [
    "vacancies_dataset = {\n",
    "    \"vacancy_name\": [],\n",
    "    \"employer_name\": [],\n",
    "    \"city\": []\n",
    "}\n",
    "\n",
    "for vacancy in vacancies:\n",
    "    vacancies_dataset[\"vacancy_name\"].append(vacancy[\"name\"])\n",
    "    vacancies_dataset[\"employer_name\"].append(vacancy[\"employer\"][\"name\"])\n",
    "    \n",
    "    try:\n",
    "        vacancies_dataset[\"city\"].append(vacancy.get(\"address\", {}).get(\"city\", \"no city\"))\n",
    "    except:\n",
    "        vacancies_dataset[\"city\"].append(\"no city\")\n",
    "    \n",
    "vacancies_dataset = pd.DataFrame(vacancies_dataset)"
   ]
  },
  {
   "cell_type": "code",
   "execution_count": 4,
   "metadata": {},
   "outputs": [
    {
     "data": {
      "text/plain": [
       "Билайн                                  55\n",
       "Сбербанк                                54\n",
       "МТС                                     28\n",
       "МАГНИТ, Розничная сеть                  20\n",
       "МТС Банк                                16\n",
       "                                        ..\n",
       "Ростелеком Информационные Технологии     1\n",
       "Метсо                                    1\n",
       "Anchous Drive Recruitment                1\n",
       "Медиалогия                               1\n",
       "Devexperts                               1\n",
       "Name: employer_name, Length: 452, dtype: int64"
      ]
     },
     "execution_count": 4,
     "metadata": {},
     "output_type": "execute_result"
    }
   ],
   "source": [
    "vacancies_dataset.employer_name.value_counts()"
   ]
  },
  {
   "cell_type": "code",
   "execution_count": null,
   "metadata": {},
   "outputs": [],
   "source": []
  }
 ],
 "metadata": {
  "kernelspec": {
   "display_name": "Python 3",
   "language": "python",
   "name": "python3"
  },
  "language_info": {
   "codemirror_mode": {
    "name": "ipython",
    "version": 3
   },
   "file_extension": ".py",
   "mimetype": "text/x-python",
   "name": "python",
   "nbconvert_exporter": "python",
   "pygments_lexer": "ipython3",
   "version": "3.7.3"
  }
 },
 "nbformat": 4,
 "nbformat_minor": 2
}
