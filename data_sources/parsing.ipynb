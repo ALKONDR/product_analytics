{
 "cells": [
  {
   "cell_type": "code",
   "execution_count": 1,
   "metadata": {},
   "outputs": [
    {
     "name": "stdout",
     "output_type": "stream",
     "text": [
      "WARNING: pip is being invoked by an old script wrapper. This will fail in a future version of pip.\n",
      "Please see https://github.com/pypa/pip/issues/5599 for advice on fixing the underlying issue.\n",
      "To avoid this problem you can invoke Python with '-m pip' instead of running pip directly.\n",
      "Defaulting to user installation because normal site-packages is not writeable\n",
      "Requirement already satisfied: beautifulsoup4 in /Users/aleksandrkondraskin/.local/lib/python3.7/site-packages (4.8.1)\n",
      "Requirement already satisfied: soupsieve>=1.2 in /Users/aleksandrkondraskin/anaconda3/lib/python3.7/site-packages (from beautifulsoup4) (1.8)\n",
      "\u001b[33mWARNING: You are using pip version 20.0.2; however, version 20.1.1 is available.\n",
      "You should consider upgrading via the '/Users/aleksandrkondraskin/anaconda3/bin/python -m pip install --upgrade pip' command.\u001b[0m\n"
     ]
    }
   ],
   "source": [
    "!pip install beautifulsoup4"
   ]
  },
  {
   "cell_type": "code",
   "execution_count": 2,
   "metadata": {},
   "outputs": [],
   "source": [
    "import pandas as pd\n",
    "import requests\n",
    "\n",
    "from bs4 import BeautifulSoup"
   ]
  },
  {
   "cell_type": "code",
   "execution_count": 19,
   "metadata": {},
   "outputs": [],
   "source": [
    "webpage_countries_population = requests.get(\n",
    "    \"https://en.wikipedia.org/wiki/List_of_countries_and_dependencies_by_population\").text\n",
    "\n",
    "souped_webpage = BeautifulSoup(webpage_countries_population, \"lxml\")\n",
    "\n",
    "population_table = soup.find(\"table\", {\"class\": \"wikitable sortable\"})\n",
    "population_table = pd.read_html(str(population_table))[0]"
   ]
  },
  {
   "cell_type": "code",
   "execution_count": 20,
   "metadata": {},
   "outputs": [
    {
     "data": {
      "text/html": [
       "<div>\n",
       "<style scoped>\n",
       "    .dataframe tbody tr th:only-of-type {\n",
       "        vertical-align: middle;\n",
       "    }\n",
       "\n",
       "    .dataframe tbody tr th {\n",
       "        vertical-align: top;\n",
       "    }\n",
       "\n",
       "    .dataframe thead th {\n",
       "        text-align: right;\n",
       "    }\n",
       "</style>\n",
       "<table border=\"1\" class=\"dataframe\">\n",
       "  <thead>\n",
       "    <tr style=\"text-align: right;\">\n",
       "      <th></th>\n",
       "      <th>Rank</th>\n",
       "      <th>Country (or dependent territory)</th>\n",
       "      <th>Population</th>\n",
       "      <th>% of worldpopulation</th>\n",
       "      <th>Date</th>\n",
       "      <th>Source</th>\n",
       "    </tr>\n",
       "  </thead>\n",
       "  <tbody>\n",
       "    <tr>\n",
       "      <th>0</th>\n",
       "      <td>1</td>\n",
       "      <td>China[b]</td>\n",
       "      <td>1402843280</td>\n",
       "      <td>NaN</td>\n",
       "      <td>28 May 2020</td>\n",
       "      <td>National population clock[3]</td>\n",
       "    </tr>\n",
       "    <tr>\n",
       "      <th>1</th>\n",
       "      <td>2</td>\n",
       "      <td>India[c]</td>\n",
       "      <td>1362791512</td>\n",
       "      <td>NaN</td>\n",
       "      <td>28 May 2020</td>\n",
       "      <td>National population clock[4]</td>\n",
       "    </tr>\n",
       "    <tr>\n",
       "      <th>2</th>\n",
       "      <td>3</td>\n",
       "      <td>United States[d]</td>\n",
       "      <td>329765218</td>\n",
       "      <td>NaN</td>\n",
       "      <td>28 May 2020</td>\n",
       "      <td>National population clock[5]</td>\n",
       "    </tr>\n",
       "    <tr>\n",
       "      <th>3</th>\n",
       "      <td>4</td>\n",
       "      <td>Indonesia</td>\n",
       "      <td>266911900</td>\n",
       "      <td>NaN</td>\n",
       "      <td>1 Jul 2019</td>\n",
       "      <td>National annual projection[6]</td>\n",
       "    </tr>\n",
       "    <tr>\n",
       "      <th>4</th>\n",
       "      <td>5</td>\n",
       "      <td>Pakistan[e]</td>\n",
       "      <td>220892331</td>\n",
       "      <td>NaN</td>\n",
       "      <td>1 Jul 2020</td>\n",
       "      <td>UN Projection[2]</td>\n",
       "    </tr>\n",
       "  </tbody>\n",
       "</table>\n",
       "</div>"
      ],
      "text/plain": [
       "  Rank Country (or dependent territory)  Population % of worldpopulation  \\\n",
       "0    1                         China[b]  1402843280                  NaN   \n",
       "1    2                         India[c]  1362791512                  NaN   \n",
       "2    3                 United States[d]   329765218                  NaN   \n",
       "3    4                        Indonesia   266911900                  NaN   \n",
       "4    5                      Pakistan[e]   220892331                  NaN   \n",
       "\n",
       "          Date                         Source  \n",
       "0  28 May 2020   National population clock[3]  \n",
       "1  28 May 2020   National population clock[4]  \n",
       "2  28 May 2020   National population clock[5]  \n",
       "3   1 Jul 2019  National annual projection[6]  \n",
       "4   1 Jul 2020               UN Projection[2]  "
      ]
     },
     "execution_count": 20,
     "metadata": {},
     "output_type": "execute_result"
    }
   ],
   "source": [
    "population_table.head()"
   ]
  },
  {
   "cell_type": "code",
   "execution_count": 22,
   "metadata": {},
   "outputs": [
    {
     "data": {
      "text/plain": [
       "63946984.08264463"
      ]
     },
     "execution_count": 22,
     "metadata": {},
     "output_type": "execute_result"
    }
   ],
   "source": [
    "population_table[\"Population\"].mean()"
   ]
  }
 ],
 "metadata": {
  "kernelspec": {
   "display_name": "Python 3",
   "language": "python",
   "name": "python3"
  },
  "language_info": {
   "codemirror_mode": {
    "name": "ipython",
    "version": 3
   },
   "file_extension": ".py",
   "mimetype": "text/x-python",
   "name": "python",
   "nbconvert_exporter": "python",
   "pygments_lexer": "ipython3",
   "version": "3.7.3"
  }
 },
 "nbformat": 4,
 "nbformat_minor": 2
}
